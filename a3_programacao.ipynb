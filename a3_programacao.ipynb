{
  "nbformat": 4,
  "nbformat_minor": 0,
  "metadata": {
    "colab": {
      "provenance": [],
      "authorship_tag": "ABX9TyMHpyoA/m1v/s9pqFyg4XhU",
      "include_colab_link": true
    },
    "kernelspec": {
      "name": "python3",
      "display_name": "Python 3"
    },
    "language_info": {
      "name": "python"
    }
  },
  "cells": [
    {
      "cell_type": "markdown",
      "metadata": {
        "id": "view-in-github",
        "colab_type": "text"
      },
      "source": [
        "<a href=\"https://colab.research.google.com/github/Jonatha18/a3-programacao/blob/main/a3_programacao.ipynb\" target=\"_parent\"><img src=\"https://colab.research.google.com/assets/colab-badge.svg\" alt=\"Open In Colab\"/></a>"
      ]
    },
    {
      "cell_type": "code",
      "execution_count": 1,
      "metadata": {
        "colab": {
          "base_uri": "https://localhost:8080/"
        },
        "id": "Pi5jd-uPsQ3u",
        "outputId": "42e0ea35-8e05-4a2a-dc76-3b994e5242d9"
      },
      "outputs": [
        {
          "output_type": "stream",
          "name": "stdout",
          "text": [
            "Digite a primeira nota: 8\n",
            "Digite a segunda nota: 6\n",
            "Digite a terceira nota: 9\n",
            "Parabéns! Você foi aprovado com média 7.666666666666667\n"
          ]
        }
      ],
      "source": [
        "\n",
        "#Escreva um programa python que solicita as 3 notas de um aluno, calcula a média e informa se o aluno passou ou ficou em recuperação (a média para passar é 7)\n",
        "\n",
        "nota1 = float(input('Digite a primeira nota: '))\n",
        "nota2 = float(input('Digite a segunda nota: '))\n",
        "nota3 = float(input('Digite a terceira nota: '))\n",
        "media = (nota1 + nota2 + nota3) / 3\n",
        "\n",
        "if media >= 7:\n",
        "    print('Parabéns! Você foi aprovado com média', media)\n",
        "else:\n",
        "    print('Infelizmente você ficou em recuperação com média', media)"
      ]
    }
  ]
}